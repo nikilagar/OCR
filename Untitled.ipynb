{
 "cells": [
  {
   "cell_type": "code",
   "execution_count": 8,
   "metadata": {
    "collapsed": false,
    "scrolled": false
   },
   "outputs": [
    {
     "ename": "ModuleNotFoundError",
     "evalue": "No module named 'cv2'",
     "output_type": "error",
     "traceback": [
      "\u001b[0;31m---------------------------------------------------------------------------\u001b[0m",
      "\u001b[0;31mModuleNotFoundError\u001b[0m                       Traceback (most recent call last)",
      "\u001b[0;32m<ipython-input-8-37364774fce2>\u001b[0m in \u001b[0;36m<module>\u001b[0;34m()\u001b[0m\n\u001b[1;32m      1\u001b[0m \u001b[0;32mimport\u001b[0m \u001b[0mnumpy\u001b[0m \u001b[0;32mas\u001b[0m \u001b[0mnp\u001b[0m\u001b[0;34m\u001b[0m\u001b[0m\n\u001b[0;32m----> 2\u001b[0;31m \u001b[0;32mimport\u001b[0m \u001b[0mcv2\u001b[0m\u001b[0;34m\u001b[0m\u001b[0m\n\u001b[0m\u001b[1;32m      3\u001b[0m \u001b[0;32mimport\u001b[0m \u001b[0mthinnigSkeletonization\u001b[0m \u001b[0;32mas\u001b[0m \u001b[0mtsk\u001b[0m\u001b[0;34m\u001b[0m\u001b[0m\n\u001b[1;32m      4\u001b[0m \u001b[0mimg\u001b[0m\u001b[0;34m=\u001b[0m\u001b[0mcv2\u001b[0m\u001b[0;34m.\u001b[0m\u001b[0mimread\u001b[0m\u001b[0;34m(\u001b[0m\u001b[0;34m\"images/skeletonizeThis.jpg\"\u001b[0m\u001b[0;34m,\u001b[0m\u001b[0mcv2\u001b[0m\u001b[0;34m.\u001b[0m\u001b[0mIMREAD_GRAYSCALE\u001b[0m\u001b[0;34m)\u001b[0m\u001b[0;34m;\u001b[0m\u001b[0;34m\u001b[0m\u001b[0m\n\u001b[1;32m      5\u001b[0m \u001b[0mimg\u001b[0m\u001b[0;34m=\u001b[0m\u001b[0mtsk\u001b[0m\u001b[0;34m.\u001b[0m\u001b[0mgetSkeletonizedImage\u001b[0m\u001b[0;34m(\u001b[0m\u001b[0mimg\u001b[0m\u001b[0;34m)\u001b[0m\u001b[0;34m\u001b[0m\u001b[0m\n",
      "\u001b[0;31mModuleNotFoundError\u001b[0m: No module named 'cv2'"
     ]
    }
   ],
   "source": [
    "import numpy as np\n",
    "import cv2\n",
    "import thinnigSkeletonization as tsk\n",
    "img=cv2.imread(\"images/skeletonizeThis.jpg\",cv2.IMREAD_GRAYSCALE);\n",
    "img=tsk.getSkeletonizedImage(img)\n"
   ]
  },
  {
   "cell_type": "code",
   "execution_count": null,
   "metadata": {
    "collapsed": true
   },
   "outputs": [],
   "source": [
    " while len(stack)!=0 :\n",
    "         lastInd=len(stack)-1\n",
    "         x,y=stack[lastInd][0],stack[lastInd][1]\n",
    "         img[x][y]=255\n",
    "         stack.pop()\n",
    "    return img\n",
    "\n",
    "def frameImage(img):\n",
    "    x, y = img.shape\n",
    "    img2 = np.ones((x + 2, y + 2))\n",
    "    for i in range(1, x+1):\n",
    "        for j in range(1, y+1):\n",
    "            img2[i][j] = img[i - 1][j - 1]\n",
    "    return img2\n",
    "\n",
    "def getSkeletonizedImage(img):\n",
    "    img=frameImage(img)\n",
    "\n",
    "    while True:\n",
    "        temImg=img.copy()\n",
    "        img=subIteration(img,0)\n",
    "        img=subIteration(img,1)\n",
    "        if (temImg==img):\n",
    "            break\n",
    "    return img"
   ]
  },
  {
   "cell_type": "code",
   "execution_count": null,
   "metadata": {
    "collapsed": true
   },
   "outputs": [],
   "source": [
    "import numpy as np\n",
    "dx=np.array([0,0,-1,-1,0,1,1,1,0,-1])\n",
    "dy=np.array([0,0,0,1,1,1,0,-1,-1,-1])\n",
    "p=np.zeros((10))\n",
    "def subIteration(img,type):\n",
    "    x,y=img.shape\n",
    "    global dx,dy,retMatr,p\n",
    "    stack=[[]]\n",
    "    for i in range(1,x-1):\n",
    "        for j in range(1,y-1):\n",
    "            canBeDeleted=True\n",
    "            B=0\n",
    "            for k in range(1,10):\n",
    "                p[k]=img[i+dx[k]][j+dy[k]]\n",
    "                B+=p[k]\n",
    "            B-=p[1]\n",
    "            if (B<2 or B>6):\n",
    "                canBeDeleted=False\n",
    "            Acnt=0\n",
    "            for k in range(2,9):\n",
    "                if p[k]==0 and p[k]==1:\n",
    "                    Acnt+=1\n",
    "            if(B<2 or B>6 or Acnt!=1):\n",
    "                canBeDeleted=False\n",
    "            if type==0 :\n",
    "                if p[2]*p[4]*p[6]==1 or p[4]*p[6]*p[8]==1 :\n",
    "                    canBeDeleted=False\n",
    "            else :\n",
    "                if p[2]*p[4]*p[8]==1 or p[2]*p[6]*p[8]==1 :\n",
    "                    canBeDeleted=False\n",
    "            if img[i][j]==0 and canBeDeleted==True:\n",
    "                stack.append([i,j])\n",
    "   "
   ]
  }
 ],
 "metadata": {
  "kernelspec": {
   "display_name": "Python 3",
   "language": "python",
   "name": "python3"
  },
  "language_info": {
   "codemirror_mode": {
    "name": "ipython",
    "version": 3
   },
   "file_extension": ".py",
   "mimetype": "text/x-python",
   "name": "python",
   "nbconvert_exporter": "python",
   "pygments_lexer": "ipython3",
   "version": "3.6.0"
  }
 },
 "nbformat": 4,
 "nbformat_minor": 2
}
